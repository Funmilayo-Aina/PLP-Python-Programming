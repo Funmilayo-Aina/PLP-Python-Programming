{
  "nbformat": 4,
  "nbformat_minor": 0,
  "metadata": {
    "colab": {
      "provenance": [],
      "authorship_tag": "ABX9TyNviiskfDSKqvM25RGhYnT0",
      "include_colab_link": true
    },
    "kernelspec": {
      "name": "python3",
      "display_name": "Python 3"
    },
    "language_info": {
      "name": "python"
    }
  },
  "cells": [
    {
      "cell_type": "markdown",
      "metadata": {
        "id": "view-in-github",
        "colab_type": "text"
      },
      "source": [
        "<a href=\"https://colab.research.google.com/github/Funmilayo-Aina/PLP-Python-Programming/blob/main/Week2_Assignment.ipynb\" target=\"_parent\"><img src=\"https://colab.research.google.com/assets/colab-badge.svg\" alt=\"Open In Colab\"/></a>"
      ]
    },
    {
      "cell_type": "markdown",
      "source": [
        "**PLP_Python Programming**"
      ],
      "metadata": {
        "id": "QNCPdr_8ixBs"
      }
    },
    {
      "cell_type": "markdown",
      "source": [
        "* Create an empty list called my_list.\n",
        "* Append the following elements to my_list: 10, 20, 30, 40.\n",
        "* Insert the value 15 at the second position in the list.\n",
        "* Extend my_list with another list: [50, 60, 70].\n",
        "* Remove the last element from my_list.\n",
        "* Sort my_list in ascending order.\n",
        "* Find and print the index of the value 30 in my_list."
      ],
      "metadata": {
        "id": "pN2lONEni9a8"
      }
    },
    {
      "cell_type": "code",
      "execution_count": 13,
      "metadata": {
        "id": "vgpYm-sAZ0ia"
      },
      "outputs": [],
      "source": [
        "my_list = []"
      ]
    },
    {
      "cell_type": "code",
      "source": [
        "my_list.append( 10)\n",
        "my_list.append( 20)\n",
        "my_list.append( 30)\n",
        "my_list.append( 40)"
      ],
      "metadata": {
        "id": "0_rxoPK-Z8Ot"
      },
      "execution_count": 14,
      "outputs": []
    },
    {
      "cell_type": "code",
      "source": [
        "my_list"
      ],
      "metadata": {
        "id": "plS_FhQbZ8HM",
        "colab": {
          "base_uri": "https://localhost:8080/"
        },
        "outputId": "d2b48c1a-24ab-4de9-989e-6825a5043a50"
      },
      "execution_count": 15,
      "outputs": [
        {
          "output_type": "execute_result",
          "data": {
            "text/plain": [
              "[10, 20, 30, 40]"
            ]
          },
          "metadata": {},
          "execution_count": 15
        }
      ]
    },
    {
      "cell_type": "code",
      "source": [
        "my_list[1] = 15\n",
        "my_list"
      ],
      "metadata": {
        "id": "vLzdnZLUZ8Dk",
        "colab": {
          "base_uri": "https://localhost:8080/"
        },
        "outputId": "0929fa52-0027-4f50-988f-e5f5a40e90eb"
      },
      "execution_count": 16,
      "outputs": [
        {
          "output_type": "execute_result",
          "data": {
            "text/plain": [
              "[10, 15, 30, 40]"
            ]
          },
          "metadata": {},
          "execution_count": 16
        }
      ]
    },
    {
      "cell_type": "code",
      "source": [
        "my_list.extend([50, 60, 70])\n",
        "my_list"
      ],
      "metadata": {
        "colab": {
          "base_uri": "https://localhost:8080/"
        },
        "id": "hMAX51-AlxS4",
        "outputId": "98f5b711-8c12-4867-843d-b860a97816d7"
      },
      "execution_count": 17,
      "outputs": [
        {
          "output_type": "execute_result",
          "data": {
            "text/plain": [
              "[10, 15, 30, 40, 50, 60, 70]"
            ]
          },
          "metadata": {},
          "execution_count": 17
        }
      ]
    },
    {
      "cell_type": "code",
      "source": [
        "my_list.pop()\n",
        "my_list"
      ],
      "metadata": {
        "colab": {
          "base_uri": "https://localhost:8080/"
        },
        "id": "k5OwNyxqlxWm",
        "outputId": "b980748f-e4e3-44e2-cc6a-f933490cf346"
      },
      "execution_count": 18,
      "outputs": [
        {
          "output_type": "execute_result",
          "data": {
            "text/plain": [
              "[10, 15, 30, 40, 50, 60]"
            ]
          },
          "metadata": {},
          "execution_count": 18
        }
      ]
    },
    {
      "cell_type": "code",
      "source": [
        "my_list.sort()\n",
        "my_list"
      ],
      "metadata": {
        "colab": {
          "base_uri": "https://localhost:8080/"
        },
        "id": "RsEpsJGilxao",
        "outputId": "a232ab29-8217-4f9e-cb79-61356eed2764"
      },
      "execution_count": 20,
      "outputs": [
        {
          "output_type": "execute_result",
          "data": {
            "text/plain": [
              "[10, 15, 30, 40, 50, 60]"
            ]
          },
          "metadata": {},
          "execution_count": 20
        }
      ]
    },
    {
      "cell_type": "code",
      "source": [
        "indx = my_list.index(30)\n",
        "print(\"The index of 30 is:\",indx)"
      ],
      "metadata": {
        "colab": {
          "base_uri": "https://localhost:8080/"
        },
        "id": "3P6E62jgnKrh",
        "outputId": "36dbbab9-54e4-42e1-ece8-8656e710f344"
      },
      "execution_count": 21,
      "outputs": [
        {
          "output_type": "stream",
          "name": "stdout",
          "text": [
            "The index of 30 is: 2\n"
          ]
        }
      ]
    },
    {
      "cell_type": "code",
      "source": [],
      "metadata": {
        "id": "fcLOeuu7nKm7"
      },
      "execution_count": null,
      "outputs": []
    },
    {
      "cell_type": "code",
      "source": [],
      "metadata": {
        "id": "EJB8HUOHnKi9"
      },
      "execution_count": null,
      "outputs": []
    },
    {
      "cell_type": "code",
      "source": [],
      "metadata": {
        "id": "RVwieXE9lxev"
      },
      "execution_count": null,
      "outputs": []
    }
  ]
}
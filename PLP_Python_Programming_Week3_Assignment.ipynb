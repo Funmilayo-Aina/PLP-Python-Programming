{
  "nbformat": 4,
  "nbformat_minor": 0,
  "metadata": {
    "colab": {
      "provenance": [],
      "authorship_tag": "ABX9TyM1y6OTnkWcdUVmfOnDgiCF",
      "include_colab_link": true
    },
    "kernelspec": {
      "name": "python3",
      "display_name": "Python 3"
    },
    "language_info": {
      "name": "python"
    }
  },
  "cells": [
    {
      "cell_type": "markdown",
      "metadata": {
        "id": "view-in-github",
        "colab_type": "text"
      },
      "source": [
        "<a href=\"https://colab.research.google.com/github/Funmilayo-Aina/PLP-Python-Programming/blob/main/PLP_Python_Programming_Week3_Assignment.ipynb\" target=\"_parent\"><img src=\"https://colab.research.google.com/assets/colab-badge.svg\" alt=\"Open In Colab\"/></a>"
      ]
    },
    {
      "cell_type": "markdown",
      "source": [
        "**PLP Python Programming Week3 Assignment**"
      ],
      "metadata": {
        "id": "-wjnMs95t1xR"
      }
    },
    {
      "cell_type": "markdown",
      "source": [
        "*Create a function named calculate_discount(price, discount_percent) that calculates the final price after applying a discount*\n",
        "- The function should take the original price (price) and the discount percentage (discount_percent) as parameters.\n",
        "- If the discount is 20% or higher, apply the discount; otherwise, return the original price.\n",
        "- Using the calculate_discount function, prompt the user to enter the original price of an item and the discount percentage.\n",
        "-Print the final price after applying the discount, or if no discount was applied, print the original price."
      ],
      "metadata": {
        "id": "S05U_2_5uNTr"
      }
    },
    {
      "cell_type": "code",
      "source": [
        "def calculate_discount(price, discount_percent):\n",
        "    if discount_percent >= 20:\n",
        "        final_price = price - (price * (discount_percent / 100))\n",
        "        return final_price\n",
        "    else:\n",
        "        return price"
      ],
      "metadata": {
        "id": "lfg6hrxft3AK"
      },
      "execution_count": 1,
      "outputs": []
    },
    {
      "cell_type": "code",
      "source": [
        "calculate_discount(1000,35)"
      ],
      "metadata": {
        "colab": {
          "base_uri": "https://localhost:8080/"
        },
        "id": "9Z1bCe4nt3Ek",
        "outputId": "1c7407aa-5ded-4fee-a43f-f1764267750a"
      },
      "execution_count": 2,
      "outputs": [
        {
          "output_type": "execute_result",
          "data": {
            "text/plain": [
              "650.0"
            ]
          },
          "metadata": {},
          "execution_count": 2
        }
      ]
    },
    {
      "cell_type": "code",
      "source": [
        "#Print the final price after applying the discount, or if no discount was applied, print the original price.\n",
        "price = float(input(\"Enter the original price of the item: \"))\n",
        "discount_percent = float(input(\"Enter the discount percentage: \"))\n",
        "\n",
        "final_price = calculate_discount(price, discount_percent)\n",
        "print(f\"Original Price: R{price:.3f} and Final Price: R{final_price:.3f}\")"
      ],
      "metadata": {
        "colab": {
          "base_uri": "https://localhost:8080/"
        },
        "id": "Vc10k3qgt3IS",
        "outputId": "afb0ad89-56e8-4979-ef39-1199559cca79"
      },
      "execution_count": 6,
      "outputs": [
        {
          "output_type": "stream",
          "name": "stdout",
          "text": [
            "Enter the original price of the item: 10000\n",
            "Enter the discount percentage: 22\n",
            "Original Price: R10000.000 and Final Price: R7800.000\n"
          ]
        }
      ]
    },
    {
      "cell_type": "code",
      "source": [],
      "metadata": {
        "id": "OjVL3dogt3MV"
      },
      "execution_count": null,
      "outputs": []
    }
  ]
}
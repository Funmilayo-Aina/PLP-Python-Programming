{
  "nbformat": 4,
  "nbformat_minor": 0,
  "metadata": {
    "colab": {
      "provenance": []
    },
    "kernelspec": {
      "name": "python3",
      "display_name": "Python 3"
    },
    "language_info": {
      "name": "python"
    }
  },
  "cells": [
    {
      "cell_type": "markdown",
      "source": [
        "**Funmilayo Mary Aina**"
      ],
      "metadata": {
        "id": "azTISfMt3VaF"
      }
    },
    {
      "cell_type": "markdown",
      "source": [
        "# **Basic Calculator Program **"
      ],
      "metadata": {
        "id": "fY3FCinT3vJE"
      }
    },
    {
      "cell_type": "markdown",
      "source": [
        "\n",
        "\n",
        "Create a simple Python program that asks the user to input two numbers and a mathematical operation (addition, subtraction, multiplication, or division).\n",
        "Perform the operation based on the user's input and print the result.\n",
        "Example: If a user inputs 10, 5, and +, your program should display 10 + 5 = 15"
      ],
      "metadata": {
        "id": "TtHJ0uiZybNN"
      }
    },
    {
      "cell_type": "code",
      "source": [
        "col1 =float(input(\"Enter the first number\"))\n",
        "Col2 =float(input(\"Enter the second number\"))\n",
        "opt =input(\"Enter the operator: +, -, *, /\")\n",
        "\n",
        "if opt == \"+\":\n",
        "  outpt = col1+ Col2\n",
        "  print(f\"{col1} +{Col2} = {outpt}\")\n",
        "\n",
        "elif opt == \"-\":\n",
        "  outpt = col1- Col2\n",
        "  print(f\"{col1} -{Col2} = {outpt}\")\n",
        "\n",
        "elif opt == \"*\":\n",
        "  outpt = col1* Col2\n",
        "  print(f\"{col1} *{Col2} = {outpt}\")\n",
        "\n",
        "elif opt == \"/\":\n",
        "  outpt = col1/ Col2\n",
        "  print(f\"{col1} /{Col2} = {outpt}\")\n",
        "\n",
        "else:\n",
        "  print(\"Invalid operation\")\n",
        "\n",
        "\n",
        "\n"
      ],
      "metadata": {
        "colab": {
          "base_uri": "https://localhost:8080/"
        },
        "id": "FCsBunB5yXPP",
        "outputId": "af17743f-ccfe-4ba2-8b15-f1c6ea159d98"
      },
      "execution_count": 3,
      "outputs": [
        {
          "output_type": "stream",
          "name": "stdout",
          "text": [
            "Enter the first number12\n",
            "Enter the second number24\n",
            "Enter the operator: +, -, *, /+\n",
            "12.0 +24.0 = 36.0\n"
          ]
        }
      ]
    },
    {
      "cell_type": "code",
      "source": [],
      "metadata": {
        "id": "MPnTkV0wyXSz"
      },
      "execution_count": null,
      "outputs": []
    },
    {
      "cell_type": "code",
      "source": [],
      "metadata": {
        "id": "xtaViyN0yXWS"
      },
      "execution_count": null,
      "outputs": []
    },
    {
      "cell_type": "code",
      "source": [],
      "metadata": {
        "id": "AoEwwR0yyXZt"
      },
      "execution_count": null,
      "outputs": []
    }
  ]
}
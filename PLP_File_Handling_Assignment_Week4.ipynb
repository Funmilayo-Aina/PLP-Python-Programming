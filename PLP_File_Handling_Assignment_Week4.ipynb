{
  "nbformat": 4,
  "nbformat_minor": 0,
  "metadata": {
    "colab": {
      "provenance": [],
      "authorship_tag": "ABX9TyPms7xAoIdFo+Gx3qKdBDB1",
      "include_colab_link": true
    },
    "kernelspec": {
      "name": "python3",
      "display_name": "Python 3"
    },
    "language_info": {
      "name": "python"
    }
  },
  "cells": [
    {
      "cell_type": "markdown",
      "metadata": {
        "id": "view-in-github",
        "colab_type": "text"
      },
      "source": [
        "<a href=\"https://colab.research.google.com/github/Funmilayo-Aina/PLP-Python-Programming/blob/main/PLP_File_Handling_Assignment_Week4.ipynb\" target=\"_parent\"><img src=\"https://colab.research.google.com/assets/colab-badge.svg\" alt=\"Open In Colab\"/></a>"
      ]
    },
    {
      "cell_type": "code",
      "execution_count": 22,
      "metadata": {
        "id": "Yn_2RVid3rNu"
      },
      "outputs": [],
      "source": []
    },
    {
      "cell_type": "markdown",
      "source": [
        "**PLP_File_Handling_Assignment_Week4**"
      ],
      "metadata": {
        "id": "QeAcltdG3813"
      }
    },
    {
      "cell_type": "markdown",
      "source": [
        "*File Read & Write Challenge 🖋️: Create a program that reads a file and writes a modified version to a new file.*\n",
        "- Error Handling Lab 🧪: Ask the user for a filename and handle errors if it doesn’t exist or can’t be read.\n",
        "Outcomes 🎉"
      ],
      "metadata": {
        "id": "ftg0og7S386O"
      }
    },
    {
      "cell_type": "markdown",
      "source": [],
      "metadata": {
        "id": "8GFJAIM-3898"
      }
    },
    {
      "cell_type": "code",
      "source": [
        "ctrfile = input(\"Enter the filename to read: \")\n",
        "\n",
        "try:\n",
        "    # Open and read the file while catching error\n",
        "    with open(ctrfile, \"r\") as f:\n",
        "        content = f.read()\n",
        "\n",
        "except FileNotFoundError:\n",
        "    print(f\"{ctrfile} does not exist. Creating it now...\")\n",
        "    # Creating the file\n",
        "    content = \"This is the start of the file.\\n\"\n",
        "    with open(ctrfile, \"w\") as f:\n",
        "        f.write(content)"
      ],
      "metadata": {
        "colab": {
          "base_uri": "https://localhost:8080/"
        },
        "id": "21AkWhcdvJMo",
        "outputId": "7a5783dd-9cad-49c6-e552-fba7cdd803d3"
      },
      "execution_count": 23,
      "outputs": [
        {
          "name": "stdout",
          "output_type": "stream",
          "text": [
            "Enter the filename to read: ctrfile\n"
          ]
        }
      ]
    },
    {
      "cell_type": "code",
      "source": [
        "# Add 5 different sentences\n",
        "new_sentences = \"\"\"\n",
        "- Coding is fun when you practice daily.\n",
        "- Always close your files after using them.\n",
        "- Error handling ensures safe programs.\n",
        "- Python makes file handling easy.\n",
        "- This is the first additional sentence.\n",
        "\"\"\"\n",
        "\n",
        "adjusted_file = content + new_sentences\n",
        "\n",
        "# Create a new file name\n",
        "newfile = \"adjusted_\" + adjusted_file\n",
        "\n",
        "# Write new sentences to the new file\n",
        "with open(newfile, \"w\") as f:\n",
        "    f.write(adjusted_file)\n"
      ],
      "metadata": {
        "id": "RX8tBwaPvJCw"
      },
      "execution_count": 24,
      "outputs": []
    },
    {
      "cell_type": "code",
      "source": [
        "\n",
        "print(f\" The five new sentence are now saved to the new file {newfile}\")"
      ],
      "metadata": {
        "id": "ooweNZEN4fOl",
        "colab": {
          "base_uri": "https://localhost:8080/"
        },
        "outputId": "1a78e347-bd3d-43d9-d9dd-0a51d05017a5"
      },
      "execution_count": 25,
      "outputs": [
        {
          "output_type": "stream",
          "name": "stdout",
          "text": [
            " The five new sentence are now saved to the new file adjusted_This is the start of the file.\n",
            "\n",
            "- Coding is fun when you practice daily.\n",
            "- Always close your files after using them.\n",
            "- Error handling ensures safe programs.\n",
            "- Python makes file handling easy.\n",
            "- This is the first additional sentence.\n",
            "\n"
          ]
        }
      ]
    }
  ]
}
{
  "nbformat": 4,
  "nbformat_minor": 0,
  "metadata": {
    "colab": {
      "provenance": [],
      "authorship_tag": "ABX9TyMPpJKB8bm0scgonmh4jWeo",
      "include_colab_link": true
    },
    "kernelspec": {
      "name": "python3",
      "display_name": "Python 3"
    },
    "language_info": {
      "name": "python"
    }
  },
  "cells": [
    {
      "cell_type": "markdown",
      "metadata": {
        "id": "view-in-github",
        "colab_type": "text"
      },
      "source": [
        "<a href=\"https://colab.research.google.com/github/Funmilayo-Aina/PLP-Python-Programming/blob/main/WEEK5.ipynb\" target=\"_parent\"><img src=\"https://colab.research.google.com/assets/colab-badge.svg\" alt=\"Open In Colab\"/></a>"
      ]
    },
    {
      "cell_type": "markdown",
      "source": [
        "**WEEK 5 ASSIGNMENT**"
      ],
      "metadata": {
        "id": "KOHkVEj74x2E"
      }
    },
    {
      "cell_type": "markdown",
      "source": [
        "**Assignment 1:\n",
        "Design Your Own Class!**\n",
        "- Create a class representing anything you like (a Smartphone, Book, or even a Superhero!).\n",
        "- Add attributes and methods to bring the class to life!\n",
        "- Use constructors to initialize each object with unique values.\n",
        "- Add an inheritance layer to explore polymorphism or encapsulation.\n",
        "\n"
      ],
      "metadata": {
        "id": "-W6B6GMs4yEI"
      }
    },
    {
      "cell_type": "code",
      "source": [],
      "metadata": {
        "id": "zezv2t78o5b3"
      },
      "execution_count": 39,
      "outputs": []
    },
    {
      "cell_type": "markdown",
      "source": [
        "**Activity 2: Polymorphism Challenge**\n",
        "\n",
        "Create a program that includes animals or vehicles with the same action (like move()). However, make each class define move() differently (for example, Car.move() prints \"Driving\" 🚗, while Plane.move() prints \"Flying\" ✈️)."
      ],
      "metadata": {
        "id": "g47d2Rrbo7A6"
      }
    },
    {
      "cell_type": "code",
      "source": [
        "# Create a class\n",
        "class Smartphone:\n",
        "    def __init__(self, brand, model, color, storage, version):\n",
        "        self.brand = brand\n",
        "        self.model = model\n",
        "        self.color = color\n",
        "        self.storage = storage\n",
        "        self.version = version\n",
        "\n",
        "    def print_info(self):\n",
        "        print(f\"Brand: {self.brand}, Model: {self.model}, Color: {self.color}, \"\n",
        "              f\"Storage: {self.storage}GB, Version: {self.version}\")\n",
        "\n",
        "    def make_calls(self, number):\n",
        "        return f\" Calling {number}\"\n",
        "\n",
        "    def play_games(self, game):\n",
        "        return f\" Playing {game}\"\n",
        "\n",
        "    def take_pictures(self, cam):\n",
        "        return f\" Taking a picture with {cam}\""
      ],
      "metadata": {
        "id": "z4aPkDn04wlD"
      },
      "execution_count": 40,
      "outputs": []
    },
    {
      "cell_type": "code",
      "source": [
        "# Inheritance and  Encapsulation\n",
        "class Iphone16(Smartphone):\n",
        "    def __init__(self, color, storage):\n",
        "        super().__init__(\"Apple\", \"iPhone 16 Pro Max\", color, storage, \"iOS 18\")\n",
        "        # Encapsulation (private attribute)\n",
        "        self.__front_camera = True\n",
        "\n",
        "    def print_info(self):\n",
        "        super().print_info()\n",
        "        print(f\"Front Camera Active: {self.__front_camera}\")\n",
        "\n",
        "    # Encapsulation methods\n",
        "    def get_front_camera(self):\n",
        "        return self.__front_camera\n",
        "\n",
        "    def block_front_camera(self):\n",
        "        self.__front_camera = False\n",
        "        print(\"X Front Camera Blocked\")\n",
        "\n",
        "    def unblock_front_camera(self):\n",
        "        self.__front_camera = True\n",
        "        print(\"Front Camera Unblocked\")\n"
      ],
      "metadata": {
        "id": "iAfH4Nq8rUEK"
      },
      "execution_count": 41,
      "outputs": []
    },
    {
      "cell_type": "code",
      "source": [
        "# using the classes and functions\n",
        "phone1 = Iphone16(\"Titanium White\", 512)\n",
        "phone1.print_info()\n",
        "\n",
        "print(phone1.make_calls(\"+123456789\"))\n",
        "print(phone1.play_games(\"PUBG Mobile\"))\n",
        "\n",
        "phone1.block_front_camera()\n",
        "phone1.print_info()\n",
        "phone1.unblock_front_camera()\n"
      ],
      "metadata": {
        "colab": {
          "base_uri": "https://localhost:8080/"
        },
        "id": "I0POMAbXenAm",
        "outputId": "50a1ab34-f132-4eb5-a2c6-c7218fde909f"
      },
      "execution_count": 42,
      "outputs": [
        {
          "output_type": "stream",
          "name": "stdout",
          "text": [
            "Brand: Apple, Model: iPhone 16 Pro Max, Color: Titanium White, Storage: 512GB, Version: iOS 18\n",
            "Front Camera Active: True\n",
            " Calling +123456789\n",
            " Playing PUBG Mobile\n",
            "X Front Camera Blocked\n",
            "Brand: Apple, Model: iPhone 16 Pro Max, Color: Titanium White, Storage: 512GB, Version: iOS 18\n",
            "Front Camera Active: False\n",
            "Front Camera Unblocked\n"
          ]
        }
      ]
    },
    {
      "cell_type": "code",
      "source": [
        "# ACTIVITY 2: POLYMORPHISM"
      ],
      "metadata": {
        "id": "HeFGQf4G4wap"
      },
      "execution_count": 44,
      "outputs": []
    },
    {
      "cell_type": "code",
      "source": [
        "class Vehicle:\n",
        "  def move(self):\n",
        "    pass\n",
        "\n",
        "class Car(Vehicle):\n",
        "  def move(self):\n",
        "    return \"I like driving the latest car\"\n",
        "class Bicycle(Vehicle):\n",
        "  def move(self):\n",
        "    return \"I am riding a bicycle\"\n",
        "class Boat(Vehicle):\n",
        "  def move(self):\n",
        "    return \"Sailing\"\n",
        "  class Plane(Vehicle):\n",
        "    def move(self):\n",
        "        return \" Flying in the sky!\"\n"
      ],
      "metadata": {
        "id": "griSkktX4wXB"
      },
      "execution_count": 45,
      "outputs": []
    },
    {
      "cell_type": "code",
      "source": [
        "Vehicles= [Car(),Bicycle(),Boat()]\n",
        "\n",
        "for vehicle in Vehicles:\n",
        "  print(vehicle.move())"
      ],
      "metadata": {
        "colab": {
          "base_uri": "https://localhost:8080/"
        },
        "id": "Z3MGz76Z4wS6",
        "outputId": "17df86f3-a1ba-42d0-a2a6-bfc960c2461a"
      },
      "execution_count": 46,
      "outputs": [
        {
          "output_type": "stream",
          "name": "stdout",
          "text": [
            "I like driving the latest car\n",
            "I am riding a bicycle\n",
            "Sailing\n"
          ]
        }
      ]
    },
    {
      "cell_type": "code",
      "execution_count": 46,
      "metadata": {
        "id": "-lufHi024vR8"
      },
      "outputs": [],
      "source": []
    }
  ]
}